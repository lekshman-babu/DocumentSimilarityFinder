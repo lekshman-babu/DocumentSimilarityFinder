{
 "cells": [
  {
   "cell_type": "code",
   "execution_count": null,
   "metadata": {},
   "outputs": [],
   "source": [
    "from sklearn.feature_extraction.text import TfidfVectorizer\n",
    "from sklearn.cluster import KMeans\n",
    "import json\n",
    "import matplotlib.pyplot as plt\n",
    "from sklearn.metrics.pairwise import cosine_similarity\n",
    "import similarityFinder as sF\n",
    "ex=open(\"extracted.json\",\"r\")\n",
    "e=json.load(ex)\n",
    "para=[]\n",
    "for i in e:\n",
    "    para.append(sF.punct(e[i]['abstract']))\n",
    "vectorizer = TfidfVectorizer(stop_words='english')\n",
    "X = vectorizer.fit_transform(para)"
   ]
  },
  {
   "cell_type": "code",
   "execution_count": null,
   "metadata": {},
   "outputs": [],
   "source": [
    "wcss=[]\n",
    "n=9\n",
    "\n",
    "for i in range(1,n):\n",
    "    model = KMeans(n_clusters=i, init='k-means++',n_init=10,random_state=42)\n",
    "    model.fit(X)\n",
    "    wcss.append(model.inertia_)\n",
    "plt.plot(range(1,n),wcss)\n",
    "plt.title('The Elbow Method')\n",
    "plt.xlabel('Number of clusters')\n",
    "plt.ylabel('WCSS')\n",
    "plt.show()"
   ]
  },
  {
   "cell_type": "code",
   "execution_count": null,
   "metadata": {},
   "outputs": [],
   "source": [
    "num=6\n",
    "model = KMeans(n_clusters=num, init='k-means++',n_init=12, random_state=42)\n",
    "model.fit(X)"
   ]
  },
  {
   "cell_type": "code",
   "execution_count": null,
   "metadata": {},
   "outputs": [],
   "source": [
    "cluster_assignments = model.labels_\n",
    "print(cluster_assignments)\n",
    "# for i in range(num):\n",
    "#     cluster_documents = X[cluster_assignments == i]\n",
    "#     similarities = cosine_similarity(cluster_documents)\n",
    "#     indices = [j for j in range(len(cluster_assignments)) if cluster_assignments[j] == i]\n",
    "#     print(f\"\\nCluster {i}:\")\n",
    "#     for j in range(len(indices)):\n",
    "#         print(f\"{similarities[j,:]}\\n\")"
   ]
  },
  {
   "cell_type": "code",
   "execution_count": null,
   "metadata": {},
   "outputs": [],
   "source": [
    "titleNum=sF.getTitleNum('Observational Causal Inference in Novel Diseases: A Case Study of COVID-19')\n",
    "print(titleNum)\n",
    "requieredCluster=cluster_assignments[titleNum]\n",
    "cluster_documents=X[cluster_assignments==requieredCluster]\n",
    "similarities=cosine_similarity(cluster_documents)\n",
    "index=0\n",
    "for j in range(len(cluster_assignments)): \n",
    "    if cluster_assignments[j]==requieredCluster:\n",
    "        if j!=titleNum:\n",
    "            index+=1\n",
    "        else:\n",
    "             break\n",
    "requierdSimilarities=similarities[index,:]\n",
    "indices = [j for j in range(len(cluster_assignments)) if cluster_assignments[j] == requieredCluster]\n",
    "for doc,simi in zip(indices,requierdSimilarities):\n",
    "    print(f\"document {doc+1} similarity score {round(simi*100,1)}%\")"
   ]
  },
  {
   "cell_type": "code",
   "execution_count": null,
   "metadata": {},
   "outputs": [],
   "source": [
    "#similarity of documents with respect to centroid of the cluster\n",
    "centroids=model.cluster_centers_\n",
    "for i in range(num):\n",
    "    cluster_documents = X[cluster_assignments == i]\n",
    "    cluster_centroid = centroids[i]\n",
    "    similarities = cosine_similarity(cluster_documents, cluster_centroid.reshape(1,-1))\n",
    "    indices = [j for j in range(len(cluster_assignments)) if cluster_assignments[j] == i]\n",
    "    plt.scatter(range(len(similarities)), similarities, label=f\"Cluster {i}\")\n",
    "plt.title(\"Cosine Similarities within Clusters\")\n",
    "plt.xlabel(\"Document Index\")\n",
    "plt.ylabel(\"Cosine Similarity\")\n",
    "plt.legend()\n",
    "plt.show()"
   ]
  },
  {
   "cell_type": "code",
   "execution_count": 22,
   "metadata": {},
   "outputs": [
    {
     "name": "stdout",
     "output_type": "stream",
     "text": [
      "5\n"
     ]
    }
   ],
   "source": [
    "print(max(cluster_assignments))"
   ]
  },
  {
   "cell_type": "code",
   "execution_count": null,
   "metadata": {},
   "outputs": [],
   "source": []
  }
 ],
 "metadata": {
  "kernelspec": {
   "display_name": "Python 3",
   "language": "python",
   "name": "python3"
  },
  "language_info": {
   "codemirror_mode": {
    "name": "ipython",
    "version": 3
   },
   "file_extension": ".py",
   "mimetype": "text/x-python",
   "name": "python",
   "nbconvert_exporter": "python",
   "pygments_lexer": "ipython3",
   "version": "3.11.0"
  },
  "orig_nbformat": 4,
  "vscode": {
   "interpreter": {
    "hash": "ef040be32fb8231f10c1bb05d2c8c5c9eea5772d389c2eee393c06beb0abe8d2"
   }
  }
 },
 "nbformat": 4,
 "nbformat_minor": 2
}
